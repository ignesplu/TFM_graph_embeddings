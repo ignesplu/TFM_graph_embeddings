{
 "cells": [
  {
   "cell_type": "markdown",
   "id": "afe342a4",
   "metadata": {},
   "source": [
    "# Librerías y configuraciones"
   ]
  },
  {
   "cell_type": "code",
   "execution_count": null,
   "id": "db038b3e",
   "metadata": {},
   "outputs": [],
   "source": [
    "import pandas as pd\n",
    "import torch\n",
    "device = torch.device(\"cuda\" if torch.cuda.is_available() else \"cpu\")\n",
    "\n",
    "# Local Validation\n",
    "from TFM_GRAPH_EMBEDDINGS.src.validation.local_validation.LINE import gridsearch_params as gs_line\n",
    "from TFM_GRAPH_EMBEDDINGS.src.models.GTMAE import PreproGTMAE\n",
    "from TFM_GRAPH_EMBEDDINGS.src.validation.local_validation.GTMAE import run_gtmae_gridsearch as gs_gtmae\n",
    "from TFM_GRAPH_EMBEDDINGS.src.validation.local_validation.GTMVAE import run_gtmvae_gridsearch as gs_gtmvae\n",
    "from TFM_GRAPH_EMBEDDINGS.src.validation.local_validation.E2A_SAGE_GTMAE import run_sage_gridsearch as gs_sage\n",
    "from TFM_GRAPH_EMBEDDINGS.src.validation.local_validation.TGT import run_tgt_gridsearch as gs_tgt\n",
    "from TFM_GRAPH_EMBEDDINGS.src.validation.local_validation.HGT_TE import run_hgtte_gridsearch as gs_hgtte\n",
    "\n",
    "# Global Validation\n",
    "from TFM_GRAPH_EMBEDDINGS.src.validation.global_validation import global_validation"
   ]
  },
  {
   "cell_type": "markdown",
   "id": "07d349a2",
   "metadata": {},
   "source": [
    "Se parte de los dataframes generados tras los apartados de preprocesado y EDA."
   ]
  },
  {
   "cell_type": "code",
   "execution_count": null,
   "id": "76b72433",
   "metadata": {},
   "outputs": [],
   "source": [
    "tabu = pd.read_csv(...)\n",
    "temp = pd.read_csv(...)\n",
    "mdir = pd.read_csv(...)\n",
    "mndi = pd.read_csv(...)\n",
    "\n",
    "# Global Validation DataFrame\n",
    "val_df = pd.read_csv(...)"
   ]
  },
  {
   "cell_type": "markdown",
   "id": "ad30a5c8",
   "metadata": {},
   "source": [
    "Se decide si se quiere entrenar incluyendo:\n",
    "* `NO_MAD`: La ciudad de Madrid. Si es `True`, se excluye, si es `False`, se incluye.\n",
    "* `ADD_IDEA_EMB`: El _embedding_ medio de las descripciones de anuncios de viviendas. Si es `True`, se inluye, si es `False`, se excluye."
   ]
  },
  {
   "cell_type": "code",
   "execution_count": null,
   "id": "21ed81aa",
   "metadata": {},
   "outputs": [],
   "source": [
    "NO_MAD = False\n",
    "ADD_IDEA_EMB = True"
   ]
  },
  {
   "cell_type": "markdown",
   "id": "cbf2dc10",
   "metadata": {},
   "source": [
    "# Validación local\n",
    "Búsqueda óptima de hiperparámetros en cada uno de los modelos."
   ]
  },
  {
   "cell_type": "markdown",
   "id": "44b1c455",
   "metadata": {},
   "source": [
    "## LINE"
   ]
  },
  {
   "cell_type": "code",
   "execution_count": null,
   "id": "5f9caa60",
   "metadata": {},
   "outputs": [],
   "source": [
    "params_line = {\n",
    "    'emb_dim': [128, 256],\n",
    "    'n_epochs': [100],\n",
    "    'batch_size': [10000],\n",
    "    'neg': [5, 10],\n",
    "    'lr': [0.005, 0.01, 0.025]\n",
    "}\n",
    "\n",
    "df_val = gs_line(\n",
    "    device,\n",
    "    tabu=tabu,\n",
    "    temp=temp,\n",
    "    mdir=mdir,\n",
    "    mndi=mndi,\n",
    "    gs_dict=params_line,\n",
    "    validation_cols=[\"eur_gastos_mean\", \"idea_price_mean\", \"idea_size_mean\", \"n_migr_inter_mean\"],\n",
    "    n_loops=5,\n",
    "    add_idea_emb=ADD_IDEA_EMB,\n",
    "    no_mad=NO_MAD\n",
    ")\n",
    "df_val.head()"
   ]
  },
  {
   "cell_type": "markdown",
   "id": "762c17bc",
   "metadata": {},
   "source": [
    "## GTMAE & GTMVAE"
   ]
  },
  {
   "cell_type": "code",
   "execution_count": null,
   "id": "9f694486",
   "metadata": {},
   "outputs": [],
   "source": [
    "p = PreproGTMAE(add_idea_emb=ADD_IDEA_EMB, no_mad=NO_MAD)\n",
    "data, nodes, node2idx, node_feat_names, edge_attr_names = p.run(tabu, temp, mdir, mndi)\n",
    "\n",
    "node_targets = [c for c in node_feat_names if not c.startswith(\"idea_emb_\") and c not in {\"idea_centroid_lat\", \"idea_centroid_lon\"}]"
   ]
  },
  {
   "cell_type": "code",
   "execution_count": null,
   "id": "7f73e4a5",
   "metadata": {},
   "outputs": [],
   "source": [
    "gtmae_grid = {\n",
    "    \"hid\": [96, 128],\n",
    "    \"out\": [64, 128],\n",
    "    \"heads\": [2],\n",
    "    \"dropout\": [0.1, 0.2],\n",
    "    \"lr\": [1e-3, 5e-4],\n",
    "    \"weight_decay\": [1e-5, 1e-4],\n",
    "    \"edge_drop_prob\": [0.0, 0.2],\n",
    "    \"edge_loss_type\": [\"huber\"],\n",
    "    \"edge_huber_delta\": [1.0],\n",
    "    \"node_loss_type\": [\"huber\"],\n",
    "    \"node_huber_delta\": [1.0],\n",
    "    \"lambda_node\": [0.3, 0.5, 1.0],\n",
    "    \"node_mask_rate\": [0.0, 0.2],\n",
    "    \"add_ranking\": [False, True],\n",
    "    \"lambda_rank\": [0.3],\n",
    "    \"margin\": [0.1],\n",
    "    \"monitor\": [\"val_edge_rmse\"],\n",
    "    \"patience\": [30],\n",
    "    \"min_delta\": [0.0],\n",
    "    \"val_ratio\": [0.2],\n",
    "    \"test_ratio\": [0.2],\n",
    "    \"seed\": [33],\n",
    "    \"pair_mode\": [\"cosine_l2_absdiff\"],\n",
    "    \"use_pair_feats\": [True],\n",
    "    \"print_every\": [25],\n",
    "    \"epochs\": [250]\n",
    "}"
   ]
  },
  {
   "cell_type": "markdown",
   "id": "826f7f0d",
   "metadata": {},
   "source": [
    "### GTMAE"
   ]
  },
  {
   "cell_type": "code",
   "execution_count": null,
   "id": "c745a937",
   "metadata": {},
   "outputs": [],
   "source": [
    "df, best_model, best_Z = gs_gtmae(\n",
    "    data=data,\n",
    "    node_feat_names=node_feat_names,\n",
    "    edge_attr_names=edge_attr_names,\n",
    "    device=device,\n",
    "    param_grid=gtmae_grid,\n",
    "    sort_weights=(0.5, 0.5)\n",
    ")\n",
    "df.head()"
   ]
  },
  {
   "cell_type": "markdown",
   "id": "d0d314ce",
   "metadata": {},
   "source": [
    "### GTMVAE"
   ]
  },
  {
   "cell_type": "code",
   "execution_count": null,
   "id": "ea67903d",
   "metadata": {},
   "outputs": [],
   "source": [
    "gtmvae_grid = {**gtmae_grid, \"beta_kl\": [1e-3, 5e-4], \"kl_warmup\": [10, 25]}\n",
    "\n",
    "df, best_model, best_Z = gs_gtmvae(\n",
    "    data=data,\n",
    "    node_feat_names=node_feat_names,\n",
    "    edge_attr_names=edge_attr_names,\n",
    "    device=device,\n",
    "    param_grid=gtmvae_grid,\n",
    "    sort_weights=(0.5, 0.5)\n",
    ")\n",
    "df.head()"
   ]
  },
  {
   "cell_type": "markdown",
   "id": "f1ced19b",
   "metadata": {},
   "source": [
    "## E2A-SAGE-MAE"
   ]
  },
  {
   "cell_type": "markdown",
   "id": "e6c0c1f7",
   "metadata": {},
   "source": [
    "Se parte del preprocesado de GTMAE."
   ]
  },
  {
   "cell_type": "code",
   "execution_count": null,
   "id": "e31ff65b",
   "metadata": {},
   "outputs": [],
   "source": [
    "sage_grid = {\n",
    "    \"hid\": [96, 128],\n",
    "    \"out\": [64, 128],\n",
    "    \"dropout\": [0.1, 0.2],\n",
    "    \"use_batchnorm\": [True],\n",
    "    \"l2_norm_layers\": [True, False],\n",
    "    \"lr\": [1.3e-3, 6.5e-4],\n",
    "    \"weight_decay\": [1e-5, 1e-4],\n",
    "    \"edge_drop_prob\": [0.0, 0.2],\n",
    "    \"edge_loss_type\": [\"huber\"],\n",
    "    \"edge_huber_delta\": [1.0],\n",
    "    \"node_loss_type\": [\"huber\"],\n",
    "    \"node_huber_delta\": [1.0],\n",
    "    \"lambda_node\": [0.3, 0.5, 1.0],\n",
    "    \"node_mask_rate\": [0.0, 0.2],\n",
    "    \"add_ranking\": [False, True],\n",
    "    \"lambda_rank\": [0.3],\n",
    "    \"margin\": [0.1],\n",
    "    \"monitor\": [\"val_edge_rmse\"],\n",
    "    \"patience\": [30],\n",
    "    \"min_delta\": [0.0],\n",
    "    \"val_ratio\": [0.2],\n",
    "    \"test_ratio\": [0.2],\n",
    "    \"seed\": [33],\n",
    "    \"pair_mode\": [\"cosine_l2_absdiff\"],\n",
    "    \"use_pair_feats\": [True],\n",
    "    \"print_every\": [25],\n",
    "    \"epochs\": [250]\n",
    "}"
   ]
  },
  {
   "cell_type": "code",
   "execution_count": null,
   "id": "a282c511",
   "metadata": {},
   "outputs": [],
   "source": [
    "df, best_model, best_Z = gs_sage(\n",
    "    data=data,\n",
    "    node_feat_names=node_feat_names,\n",
    "    edge_attr_names=edge_attr_names,\n",
    "    device=device,\n",
    "    param_grid=sage_grid,\n",
    "    sort_weights=(0.5, 0.5)\n",
    ")\n",
    "df.head()"
   ]
  },
  {
   "cell_type": "markdown",
   "id": "064c1751",
   "metadata": {},
   "source": [
    "## TGT"
   ]
  },
  {
   "cell_type": "code",
   "execution_count": null,
   "id": "f2e026ab",
   "metadata": {},
   "outputs": [],
   "source": [
    "tgt_grid = {\n",
    "    \"hidden\": [64, 96],\n",
    "    \"heads\": [2, 4],\n",
    "    \"tf_layers\": [1, 2],\n",
    "    \"tf_ff\": [128, 256],\n",
    "    \"dropout\": [0.1, 0.2],\n",
    "    \"time_enc_dim\": [16, 32],\n",
    "    \"decay\": [0.3, 0.5]\n",
    "}"
   ]
  },
  {
   "cell_type": "markdown",
   "id": "07af8b88",
   "metadata": {},
   "source": [
    "El preprocesado de los datos va implícito en la función de _GridSearch_."
   ]
  },
  {
   "cell_type": "code",
   "execution_count": null,
   "id": "f167dead",
   "metadata": {},
   "outputs": [],
   "source": [
    "results = gs_tgt(\n",
    "    tabu=tabu,\n",
    "    temp=temp,\n",
    "    mdir=mdir,\n",
    "    mndi=mndi,\n",
    "    add_idea_emb=ADD_IDEA_EMB,\n",
    "    no_mad=NO_MAD,\n",
    "    target_year=2022,\n",
    "    target_cols=['eur_renta_b_xhab', 'n_migr_intra_por_hab', 'n_paro_por_hab'],\n",
    "    param_grid=tgt_grid,\n",
    "    alpha_ridge=1.0,\n",
    "    k_folds=5,\n",
    "    device=device,\n",
    "    verbose=True,\n",
    "    csv_path=\"path/to/tgt/grid/results.csv\",\n",
    "    resume=True,\n",
    ")\n",
    "results.head()"
   ]
  },
  {
   "cell_type": "markdown",
   "id": "b5d6a30c",
   "metadata": {},
   "source": [
    "## HGT-TE"
   ]
  },
  {
   "cell_type": "code",
   "execution_count": null,
   "id": "19f97b91",
   "metadata": {},
   "outputs": [],
   "source": [
    "hgtte_grid = {\n",
    "    \"spatial_hidden\": [64, 128],\n",
    "    \"spatial_out\": [64, 128],\n",
    "    \"heads\": [2, 4],\n",
    "    \"dropout\": [0.1, 0.3],\n",
    "    \"temporal_layers\": [1, 2],\n",
    "    \"temporal_heads\": [2, 4],\n",
    "    \"temporal_ff\": [128, 256],\n",
    "    \"temporal_pe_dim\": [None, 64],\n",
    "    \"lambda_focus\": [0.1, 0.25, 0.5],\n",
    "    \"target_year\": [2022]\n",
    "}"
   ]
  },
  {
   "cell_type": "markdown",
   "id": "5fca9dc9",
   "metadata": {},
   "source": [
    "El preprocesado de los datos va implícito en la función de _GridSearch_."
   ]
  },
  {
   "cell_type": "code",
   "execution_count": null,
   "id": "f8e36b93",
   "metadata": {},
   "outputs": [],
   "source": [
    "results_df, best_config, best_metrics, best_Z = gs_hgtte(\n",
    "    device=device,\n",
    "    tabu=tabu,\n",
    "    temp=temp,\n",
    "    mdir=mdir,\n",
    "    mndi=mndi,\n",
    "    add_idea_emb=ADD_IDEA_EMB,\n",
    "    no_mad=NO_MAD,\n",
    "    node_id_col=\"cc\",\n",
    "    src_col=\"cc_origen\",\n",
    "    dst_col=\"cc_destino\",\n",
    "    year_col=\"year\",\n",
    "    static_cols=None,\n",
    "    temp_cols=None,\n",
    "    edge_attr_cols_dir=None,\n",
    "    edge_attr_cols_undir=None,\n",
    "    target_year=2022,\n",
    "    static_proxy_cols=[\"idea_price_mean\", \"geo_distancia_capital\"],\n",
    "    temp_proxy_cols=[\"n_ss_general_por_hab\", \"n_nacimientos_por_hab\"],\n",
    "    drop_proxy_rows_with_na=True,\n",
    "    param_grid=hgtte_grid,\n",
    "    gs_mode=\"linear_probe\"\n",
    ")\n",
    "print(best_config)\n",
    "results_df.head()"
   ]
  },
  {
   "cell_type": "markdown",
   "id": "df1c9c21",
   "metadata": {},
   "source": [
    "# Validación global\n",
    "Comparativa entre los _embeddings_ resultantes de los entrenamientos de los modelos óptimas (mejores parametrías resultantes del apartado de \"Validación local\")."
   ]
  },
  {
   "cell_type": "code",
   "execution_count": null,
   "id": "ad7d39de",
   "metadata": {},
   "outputs": [],
   "source": [
    "# Embeddings generados tras la validación local\n",
    "emb_LINE = pd.read_csv(...)\n",
    "emb_GTMAE = pd.read_csv(...)\n",
    "emb_GTMVAE = pd.read_csv(...)\n",
    "emb_E2ASAGEMAE = pd.read_csv(...)\n",
    "emb_TGT = pd.read_csv(...)\n",
    "emb_HGTTE = pd.read_csv(...)\n",
    "\n",
    "embeddings = [\n",
    "    (\"LINE\", emb_LINE),\n",
    "    (\"GTMAE\", emb_GTMAE),\n",
    "    (\"GTMVAE\", emb_GTMVAE),\n",
    "    (\"E2A-SAGE-MAE\", emb_E2ASAGEMAE),\n",
    "    (\"TGT\", emb_TGT),\n",
    "    (\"HGT-TE\", emb_HGTTE),\n",
    "]"
   ]
  },
  {
   "cell_type": "code",
   "execution_count": null,
   "id": "e323de4c",
   "metadata": {},
   "outputs": [],
   "source": [
    "global_results = global_validation(\n",
    "    tabu=tabu,\n",
    "    temp=temp,\n",
    "    mdir=mdir,\n",
    "    mndi=mndi,\n",
    "    no_mad=NO_MAD,\n",
    "    add_idea_emb=False,\n",
    "    val_df=val_df,\n",
    "    val_n_splits=3,\n",
    "    node_id_col='cc',\n",
    "    year_col='year',\n",
    "    emb_year=2022,\n",
    "    embeddings=embeddings,\n",
    "    seed=33\n",
    ")\n",
    "global_results.head()"
   ]
  }
 ],
 "metadata": {
  "kernelspec": {
   "display_name": "brenv",
   "language": "python",
   "name": "python3"
  },
  "language_info": {
   "codemirror_mode": {
    "name": "ipython",
    "version": 3
   },
   "file_extension": ".py",
   "mimetype": "text/x-python",
   "name": "python",
   "nbconvert_exporter": "python",
   "pygments_lexer": "ipython3",
   "version": "3.10.18"
  }
 },
 "nbformat": 4,
 "nbformat_minor": 5
}
