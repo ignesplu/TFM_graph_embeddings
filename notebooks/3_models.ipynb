{
 "cells": [
  {
   "cell_type": "markdown",
   "id": "f3dbd198",
   "metadata": {},
   "source": [
    "# Librerías y configuraciones"
   ]
  },
  {
   "cell_type": "code",
   "execution_count": null,
   "id": "0939014c",
   "metadata": {},
   "outputs": [],
   "source": [
    "import pandas as pd\n",
    "import torch\n",
    "device = torch.device(\"cuda\" if torch.cuda.is_available() else \"cpu\")\n",
    "\n",
    "from TFM_GRAPH_EMBEDDINGS.src.models.LINE import PreproLINE, full_train_line as train_line\n",
    "from TFM_GRAPH_EMBEDDINGS.src.models.GTMAE import PreproGTMAE, train_edge_node_multitask as train_gtmae\n",
    "from TFM_GRAPH_EMBEDDINGS.src.models.GTMVAE import train_edge_node_multitask_v as train_gtmvae\n",
    "from TFM_GRAPH_EMBEDDINGS.src.models.E2A_SAGE_MAE import train_edge_node_multitask_sage\n",
    "from TFM_GRAPH_EMBEDDINGS.src.models.TGT import PreproTGT, TGTConfig, compute_tgt_embeddings\n",
    "from TFM_GRAPH_EMBEDDINGS.src.models.HGT_TE import train_hgtte"
   ]
  },
  {
   "cell_type": "markdown",
   "id": "42712f9d",
   "metadata": {},
   "source": [
    "Se parte de los dataframes generados tras el apartado de preproceado y EDA."
   ]
  },
  {
   "cell_type": "code",
   "execution_count": null,
   "id": "22d45e1d",
   "metadata": {},
   "outputs": [],
   "source": [
    "tabu = pd.read_csv(...)\n",
    "temp = pd.read_csv(...)\n",
    "mdir = pd.read_csv(...)\n",
    "mndi = pd.read_csv(...)"
   ]
  },
  {
   "cell_type": "markdown",
   "id": "0682319b",
   "metadata": {},
   "source": [
    "Se decide si se quiere entrenar incluyendo:\n",
    "* `NO_MAD`: La ciudad de Madrid. Si es `True`, se excluye, si es `False`, se incluye.\n",
    "* `ADD_IDEA_EMB`: El _embedding_ medio de las descripciones de anuncios de viviendas. Si es `True`, se inluye, si es `False`, se excluye."
   ]
  },
  {
   "cell_type": "code",
   "execution_count": null,
   "id": "cdc37df7",
   "metadata": {},
   "outputs": [],
   "source": [
    "NO_MAD = False\n",
    "ADD_IDEA_EMB = True"
   ]
  },
  {
   "cell_type": "markdown",
   "id": "121fcdb8",
   "metadata": {},
   "source": [
    "# LINE"
   ]
  },
  {
   "cell_type": "markdown",
   "id": "90fe5afc",
   "metadata": {},
   "source": [
    "## Preprocesado"
   ]
  },
  {
   "cell_type": "code",
   "execution_count": null,
   "id": "04ae9d21",
   "metadata": {},
   "outputs": [],
   "source": [
    "prepro = PreproLINE(\n",
    "    add_idea_emb=ADD_IDEA_EMB,\n",
    "    no_mad=NO_MAD,\n",
    "    year=2022\n",
    ")\n",
    "df_line_mms_mean, df_line_mms_sum, df_line_r_mean, df_line_r_sum = prepro.run(tabu, temp, mdir, mndi)"
   ]
  },
  {
   "cell_type": "markdown",
   "id": "e5c545ef",
   "metadata": {},
   "source": [
    "## Entrenamiento\n",
    "Se opta por el modelo **LINE-R-Sum**."
   ]
  },
  {
   "cell_type": "code",
   "execution_count": null,
   "id": "2f88c847",
   "metadata": {},
   "outputs": [],
   "source": [
    "line_emb_df = train_line(\n",
    "    device=device,\n",
    "    df=df_line_r_sum.copy(),\n",
    "    emb_dim=256,\n",
    "    n_epochs=100,\n",
    "    batch_size=10000,\n",
    "    neg=10,\n",
    "    lr=0.01\n",
    ")"
   ]
  },
  {
   "cell_type": "markdown",
   "id": "248f957d",
   "metadata": {},
   "source": [
    "# GTMAE & GTMVAE"
   ]
  },
  {
   "cell_type": "markdown",
   "id": "5384710b",
   "metadata": {},
   "source": [
    "## Preprocesado y variables globales"
   ]
  },
  {
   "cell_type": "code",
   "execution_count": null,
   "id": "237854b9",
   "metadata": {},
   "outputs": [],
   "source": [
    "prepro = PreproGTMAE(add_idea_emb=True, no_mad=False)\n",
    "data, nodes, node2idx, node_feat_names, edge_attr_names = prepro.run(tabu, temp, mdir, mndi)"
   ]
  },
  {
   "cell_type": "code",
   "execution_count": null,
   "id": "dbe3b855",
   "metadata": {},
   "outputs": [],
   "source": [
    "# Aristas y variables nodales a predecir en el AE\n",
    "edge_targets = edge_attr_names\n",
    "node_targets = [c for c in node_feat_names if not c.startswith(\"idea_emb_\") and c not in {\"idea_centroid_lat\", \"idea_centroid_lon\"}]"
   ]
  },
  {
   "cell_type": "markdown",
   "id": "f73b7520",
   "metadata": {},
   "source": [
    "## Entrenamiento GTMAE"
   ]
  },
  {
   "cell_type": "code",
   "execution_count": null,
   "id": "de5c06f3",
   "metadata": {},
   "outputs": [],
   "source": [
    "model, Z = train_gtmae(\n",
    "    data=data,\n",
    "    # Columnas de arista a predecir\n",
    "    target_cols=edge_targets,\n",
    "    # Listado de columnas nodales\n",
    "    node_feat_names=node_feat_names,\n",
    "    # Columnas nodales a predecir\n",
    "    node_target_cols=node_targets,\n",
    "    # Parámetros del encoder\n",
    "    hid=128, out=64, lr=1e-3, epochs=150,\n",
    "    weight_decay=1e-4, dropout=0.2, heads=2,\n",
    "    # Parámetros de early stopping\n",
    "    patience=30, min_delta=0.0, monitor=\"val_edge_rmse\", restore_best=True,\n",
    "    # Parámetros de split\n",
    "    val_ratio=0.2, test_ratio=0.2, seed=33,\n",
    "    # Parámetros del Decoder y pair features\n",
    "    use_pair_feats=True, pair_mode=\"cosine_l2_absdiff\",\n",
    "    # Parámetros de LOSS\n",
    "    edge_loss_type=\"huber\", edge_huber_delta=1.0,\n",
    "    node_loss_type=\"huber\", node_huber_delta=1.0,\n",
    "    # Parámetros de ranking edge (opcional)\n",
    "    add_ranking=False, lambda_rank=0.5, margin=0.1,\n",
    "    # Peso de la tarea nodal\n",
    "    lambda_node=1.0,\n",
    "    # Parámetros de dropout de aristas\n",
    "    edge_drop_prob=0.2,\n",
    "    # Enmascarado de targets nodales\n",
    "    node_mask_rate=0.15,\n",
    "    # Otros parámetros\n",
    "    dbg_print=True, print_every=20, device=device\n",
    ")"
   ]
  },
  {
   "cell_type": "markdown",
   "id": "112ca5da",
   "metadata": {},
   "source": [
    "## Entrenamiento GTMVAE"
   ]
  },
  {
   "cell_type": "code",
   "execution_count": null,
   "id": "ee8765bc",
   "metadata": {},
   "outputs": [],
   "source": [
    "model, Z = train_gtmvae(\n",
    "    data=data,\n",
    "    target_cols=edge_targets,\n",
    "    node_feat_names=node_feat_names,\n",
    "    node_target_cols=node_targets,\n",
    "    hid=128, out=64, lr=1e-3, epochs=150,\n",
    "    weight_decay=1e-4, dropout=0.2, heads=2,\n",
    "    patience=30, min_delta=0.0, monitor=\"val_edge_rmse\", restore_best=True,\n",
    "    val_ratio=0.2, test_ratio=0.2, seed=33,\n",
    "    use_pair_feats=True, pair_mode=\"cosine_l2_absdiff\",\n",
    "    edge_loss_type=\"huber\", edge_huber_delta=1.0,\n",
    "    node_loss_type=\"huber\", node_huber_delta=1.0,\n",
    "    add_ranking=False, lambda_rank=0.5, margin=0.1,\n",
    "    lambda_node=1.0,\n",
    "    edge_drop_prob=0.2,\n",
    "    node_mask_rate=0.15,\n",
    "    dbg_print=True, print_every=20, device=device,\n",
    "    # Parámetros de KL (únicos parámetros nuevos respecto al GTMAE)\n",
    "    beta_kl=1e-3, kl_warmup=10\n",
    ")"
   ]
  },
  {
   "cell_type": "markdown",
   "id": "25dc6a3f",
   "metadata": {},
   "source": [
    "# E2A-SAGE-MAE"
   ]
  },
  {
   "cell_type": "markdown",
   "id": "96f2921b",
   "metadata": {},
   "source": [
    "## Preprocesado\n",
    "Se parte del mismo preprocesado de GTMAE."
   ]
  },
  {
   "cell_type": "markdown",
   "id": "08799af2",
   "metadata": {},
   "source": [
    "## Entrenamiento"
   ]
  },
  {
   "cell_type": "code",
   "execution_count": null,
   "id": "b8b58341",
   "metadata": {},
   "outputs": [],
   "source": [
    "model, Z = train_edge_node_multitask_sage(\n",
    "    data=data,\n",
    "    target_cols=edge_targets,\n",
    "    node_feat_names=node_feat_names,\n",
    "    node_target_cols=node_targets,\n",
    "    hid=128,\n",
    "    out=256,\n",
    "    dropout=0.2,\n",
    "    use_batchnorm=True,\n",
    "    l2_norm_layers=False,\n",
    "    lr=0.001,\n",
    "    weight_decay=0.0001,\n",
    "    edge_drop_prob=0.2,\n",
    "    edge_loss_type=\"huber\",\n",
    "    edge_huber_delta=1.0,\n",
    "    node_loss_type=\"huber\",\n",
    "    node_huber_delta=1.0,\n",
    "    lambda_node=1.0,\n",
    "    node_mask_rate=0.2,\n",
    "    add_ranking=True,\n",
    "    lambda_rank=0.3,\n",
    "    margin=0.1,\n",
    "    monitor=\"val_edge_rmse\",\n",
    "    patience=30,\n",
    "    min_delta=0.0,\n",
    "    val_ratio=0.2,\n",
    "    test_ratio=0.2,\n",
    "    seed=33,\n",
    "    use_pair_feats=True,\n",
    "    pair_mode=\"cosine_l2_absdiff\",\n",
    "    print_every=25,\n",
    "    epochs=250,\n",
    "    device=device,\n",
    "    dbg_print=False\n",
    ")"
   ]
  },
  {
   "cell_type": "markdown",
   "id": "a2f56966",
   "metadata": {},
   "source": [
    "# TGT"
   ]
  },
  {
   "cell_type": "markdown",
   "id": "0f899494",
   "metadata": {},
   "source": [
    "## Preprocesado"
   ]
  },
  {
   "cell_type": "code",
   "execution_count": null,
   "id": "ac6ad530",
   "metadata": {},
   "outputs": [],
   "source": [
    "p = PreproTGT(add_idea_emb=ADD_IDEA_EMB, no_mad=NO_MAD)\n",
    "prep = p.run(tabu, temp, mdir, mndi)"
   ]
  },
  {
   "cell_type": "markdown",
   "id": "b8a2efbc",
   "metadata": {},
   "source": [
    "## Entrenamiento"
   ]
  },
  {
   "cell_type": "code",
   "execution_count": null,
   "id": "cbddccc0",
   "metadata": {},
   "outputs": [],
   "source": [
    "cfg = TGTConfig(\n",
    "    hidden=96,\n",
    "    heads=2,\n",
    "    tf_layers=2,\n",
    "    tf_ff=256,\n",
    "    dropout=0.2,\n",
    "    time_enc_dim=32,\n",
    "    tf_heads=5\n",
    ")\n",
    "\n",
    "Z_2022, years, w = compute_tgt_embeddings(\n",
    "    prep,\n",
    "    target_year=2022,\n",
    "    device=device,\n",
    "    cfg=cfg,\n",
    "    decay=0.3\n",
    ")"
   ]
  },
  {
   "cell_type": "markdown",
   "id": "880da49a",
   "metadata": {},
   "source": [
    "# HGT-TE"
   ]
  },
  {
   "cell_type": "markdown",
   "id": "b7fdcdf9",
   "metadata": {},
   "source": [
    "## Preprocesado\n",
    "El preprocesado va implícito en la función de entrenamiento"
   ]
  },
  {
   "cell_type": "markdown",
   "id": "30610b77",
   "metadata": {},
   "source": [
    "## Entrenamiento"
   ]
  },
  {
   "cell_type": "code",
   "execution_count": null,
   "id": "4ab475ea",
   "metadata": {},
   "outputs": [],
   "source": [
    "Z_2022 = train_hgtte(\n",
    "    device=device,\n",
    "    tabu=tabu,\n",
    "    temp=temp,\n",
    "    mdir=mdir,\n",
    "    mndi=mndi,\n",
    "    add_idea_emb=ADD_IDEA_EMB,\n",
    "    no_mad=NO_MAD,\n",
    "    node_id_col=\"cc\",\n",
    "    src_col=\"cc_origen\",\n",
    "    dst_col=\"cc_destino\",\n",
    "    year_col=\"year\",\n",
    "    static_cols=None,\n",
    "    temp_cols=None,\n",
    "    edge_attr_cols_dir=None,\n",
    "    edge_attr_cols_undir=None,\n",
    "    spatial_hidden=128,\n",
    "    spatial_out=128,\n",
    "    heads=2,\n",
    "    dropout=0.2,\n",
    "    temporal_layers=2,\n",
    "    temporal_heads=4,\n",
    "    temporal_ff=512,\n",
    "    target_year=2022,\n",
    "    lambda_focus=0.25\n",
    ")"
   ]
  }
 ],
 "metadata": {
  "kernelspec": {
   "display_name": "brenv",
   "language": "python",
   "name": "python3"
  },
  "language_info": {
   "codemirror_mode": {
    "name": "ipython",
    "version": 3
   },
   "file_extension": ".py",
   "mimetype": "text/x-python",
   "name": "python",
   "nbconvert_exporter": "python",
   "pygments_lexer": "ipython3",
   "version": "3.10.18"
  }
 },
 "nbformat": 4,
 "nbformat_minor": 5
}
